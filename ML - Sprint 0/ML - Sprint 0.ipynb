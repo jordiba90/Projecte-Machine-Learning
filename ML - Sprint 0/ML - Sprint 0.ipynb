{
 "cells": [
  {
   "cell_type": "markdown",
   "metadata": {},
   "source": [
    "<h1 style=\"font-family: Wide Latin, sans-serif; font-size: 40px; font-weight: bold; float: left;\">Sprint 0</h1> \n",
    "\n",
    "<img src=\"https://itacademy.barcelonactiva.cat/pluginfile.php/1/theme_remui/logo/1724822700/logo.png\" alt=\"Logo Derecha\" style=\"width: 10%; float: right;\">\n",
    "\n",
    "<div style=\"clear: both;\"></div>\n",
    "\n",
    "- **Autor**: Jordi Bosch Alibau\n",
    "- **Curs**: Upskilling en Machine Learning\n",
    "- **Sprint**: Sprint 0: Instal·lació i configuració de l´entorn de treball per a ML"
   ]
  },
  {
   "cell_type": "markdown",
   "metadata": {},
   "source": [
    "#### **Exemple 1: Operaciones y Variables**"
   ]
  },
  {
   "cell_type": "code",
   "execution_count": 4,
   "metadata": {},
   "outputs": [
    {
     "name": "stdout",
     "output_type": "stream",
     "text": [
      "1 + 1 =  2\n",
      "2 * 2 =  4\n",
      "8 / 4 =  2.0\n",
      "7 ** 2 =  49\n",
      "\n",
      "r = 7 + 3 =  10\n",
      "r2 = r + 5 =  15\n",
      "\n",
      "{'ABC': <class 'str'>, 123: <class 'int'>, True: <class 'bool'>}\n"
     ]
    }
   ],
   "source": [
    "print(\"1 + 1 = \", 1 + 1); print(\"2 * 2 = \", 2 * 2); print(\"8 / 4 = \", 8 / 4); print(\"7 ** 2 = \", 7 ** 2); print(\"\")\n",
    "r = 7 + 3; print(\"r = 7 + 3 = \", r); r2 = r+5; print(\"r2 = r + 5 = \", r2); print(\"\")\n",
    "a = \"ABC\"; b=123; c= True; print({a:type(a), b:type(b), c:type(c)})"
   ]
  },
  {
   "cell_type": "markdown",
   "metadata": {},
   "source": [
    "#### **Exemple 2: Librería Pandas**"
   ]
  },
  {
   "cell_type": "code",
   "execution_count": 6,
   "metadata": {},
   "outputs": [
    {
     "data": {
      "text/html": [
       "<div>\n",
       "<style scoped>\n",
       "    .dataframe tbody tr th:only-of-type {\n",
       "        vertical-align: middle;\n",
       "    }\n",
       "\n",
       "    .dataframe tbody tr th {\n",
       "        vertical-align: top;\n",
       "    }\n",
       "\n",
       "    .dataframe thead th {\n",
       "        text-align: right;\n",
       "    }\n",
       "</style>\n",
       "<table border=\"1\" class=\"dataframe\">\n",
       "  <thead>\n",
       "    <tr style=\"text-align: right;\">\n",
       "      <th></th>\n",
       "      <th>Country name</th>\n",
       "      <th>year</th>\n",
       "      <th>Life Ladder</th>\n",
       "      <th>Log GDP per capita</th>\n",
       "      <th>Social support</th>\n",
       "      <th>Healthy life expectancy at birth</th>\n",
       "      <th>Freedom to make life choices</th>\n",
       "      <th>Generosity</th>\n",
       "      <th>Perceptions of corruption</th>\n",
       "      <th>Positive affect</th>\n",
       "      <th>Negative affect</th>\n",
       "    </tr>\n",
       "  </thead>\n",
       "  <tbody>\n",
       "    <tr>\n",
       "      <th>1947</th>\n",
       "      <td>Spain</td>\n",
       "      <td>2023</td>\n",
       "      <td>6.456033</td>\n",
       "      <td>10.608960</td>\n",
       "      <td>0.912135</td>\n",
       "      <td>72.599998</td>\n",
       "      <td>0.778683</td>\n",
       "      <td>-0.003900</td>\n",
       "      <td>0.674821</td>\n",
       "      <td>0.654594</td>\n",
       "      <td>0.325137</td>\n",
       "    </tr>\n",
       "    <tr>\n",
       "      <th>1946</th>\n",
       "      <td>Spain</td>\n",
       "      <td>2022</td>\n",
       "      <td>6.336902</td>\n",
       "      <td>10.592478</td>\n",
       "      <td>0.933900</td>\n",
       "      <td>72.474998</td>\n",
       "      <td>0.781409</td>\n",
       "      <td>-0.001004</td>\n",
       "      <td>0.673112</td>\n",
       "      <td>0.635929</td>\n",
       "      <td>0.319962</td>\n",
       "    </tr>\n",
       "    <tr>\n",
       "      <th>1945</th>\n",
       "      <td>Spain</td>\n",
       "      <td>2021</td>\n",
       "      <td>6.469611</td>\n",
       "      <td>10.543589</td>\n",
       "      <td>0.926417</td>\n",
       "      <td>72.349998</td>\n",
       "      <td>0.781795</td>\n",
       "      <td>-0.076045</td>\n",
       "      <td>0.729347</td>\n",
       "      <td>0.639075</td>\n",
       "      <td>0.323980</td>\n",
       "    </tr>\n",
       "    <tr>\n",
       "      <th>1944</th>\n",
       "      <td>Spain</td>\n",
       "      <td>2020</td>\n",
       "      <td>6.502175</td>\n",
       "      <td>10.490920</td>\n",
       "      <td>0.934935</td>\n",
       "      <td>72.224998</td>\n",
       "      <td>0.783257</td>\n",
       "      <td>-0.126773</td>\n",
       "      <td>0.729977</td>\n",
       "      <td>0.671131</td>\n",
       "      <td>0.316617</td>\n",
       "    </tr>\n",
       "    <tr>\n",
       "      <th>1943</th>\n",
       "      <td>Spain</td>\n",
       "      <td>2019</td>\n",
       "      <td>6.457449</td>\n",
       "      <td>10.616002</td>\n",
       "      <td>0.949013</td>\n",
       "      <td>72.099998</td>\n",
       "      <td>0.777967</td>\n",
       "      <td>-0.054457</td>\n",
       "      <td>0.730338</td>\n",
       "      <td>0.636200</td>\n",
       "      <td>0.315518</td>\n",
       "    </tr>\n",
       "  </tbody>\n",
       "</table>\n",
       "</div>"
      ],
      "text/plain": [
       "     Country name  year  Life Ladder  Log GDP per capita  Social support  \\\n",
       "1947        Spain  2023     6.456033           10.608960        0.912135   \n",
       "1946        Spain  2022     6.336902           10.592478        0.933900   \n",
       "1945        Spain  2021     6.469611           10.543589        0.926417   \n",
       "1944        Spain  2020     6.502175           10.490920        0.934935   \n",
       "1943        Spain  2019     6.457449           10.616002        0.949013   \n",
       "\n",
       "      Healthy life expectancy at birth  Freedom to make life choices  \\\n",
       "1947                         72.599998                      0.778683   \n",
       "1946                         72.474998                      0.781409   \n",
       "1945                         72.349998                      0.781795   \n",
       "1944                         72.224998                      0.783257   \n",
       "1943                         72.099998                      0.777967   \n",
       "\n",
       "      Generosity  Perceptions of corruption  Positive affect  Negative affect  \n",
       "1947   -0.003900                   0.674821         0.654594         0.325137  \n",
       "1946   -0.001004                   0.673112         0.635929         0.319962  \n",
       "1945   -0.076045                   0.729347         0.639075         0.323980  \n",
       "1944   -0.126773                   0.729977         0.671131         0.316617  \n",
       "1943   -0.054457                   0.730338         0.636200         0.315518  "
      ]
     },
     "execution_count": 6,
     "metadata": {},
     "output_type": "execute_result"
    }
   ],
   "source": [
    "import pandas as pd\n",
    "src = \"https://analisi.transparenciacatalunya.cat/resource/ybgg-dgi6.csv?$limit=10&$offset=1&$where=1=1&$order=data_publicacio_anunci%20DESC\"\n",
    "src = \"World Happiness Report 2024.csv\"\n",
    "data = pd.read_csv(src)\n",
    "filtered_data = data.loc[data['Country name'] == 'Spain'].sort_values(by='year', ascending=False)\n",
    "filtered_data.head()"
   ]
  }
 ],
 "metadata": {
  "kernelspec": {
   "display_name": "entorn_ML",
   "language": "python",
   "name": "python3"
  },
  "language_info": {
   "codemirror_mode": {
    "name": "ipython",
    "version": 3
   },
   "file_extension": ".py",
   "mimetype": "text/x-python",
   "name": "python",
   "nbconvert_exporter": "python",
   "pygments_lexer": "ipython3",
   "version": "3.12.5"
  }
 },
 "nbformat": 4,
 "nbformat_minor": 2
}
